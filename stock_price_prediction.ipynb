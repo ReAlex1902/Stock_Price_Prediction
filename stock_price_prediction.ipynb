{
  "nbformat": 4,
  "nbformat_minor": 0,
  "metadata": {
    "kernelspec": {
      "display_name": "Python 3",
      "language": "python",
      "name": "python3"
    },
    "language_info": {
      "codemirror_mode": {
        "name": "ipython",
        "version": 3
      },
      "file_extension": ".py",
      "mimetype": "text/x-python",
      "name": "python",
      "nbconvert_exporter": "python",
      "pygments_lexer": "ipython3",
      "version": "3.7.1"
    },
    "colab": {
      "name": "stock_price_prediction.ipynb",
      "provenance": [],
      "collapsed_sections": [],
      "include_colab_link": true
    },
    "accelerator": "GPU"
  },
  "cells": [
    {
      "cell_type": "markdown",
      "metadata": {
        "id": "view-in-github",
        "colab_type": "text"
      },
      "source": [
        "<a href=\"https://colab.research.google.com/github/ReAlex1902/Stock_Price_Prediction/blob/master/stock_price_prediction.ipynb\" target=\"_parent\"><img src=\"https://colab.research.google.com/assets/colab-badge.svg\" alt=\"Open In Colab\"/></a>"
      ]
    },
    {
      "cell_type": "markdown",
      "metadata": {
        "id": "i1cHsVrUsGv0"
      },
      "source": [
        "# Import all necessary libraries"
      ]
    },
    {
      "cell_type": "code",
      "metadata": {
        "id": "mN9BSo-LT9KP",
        "outputId": "4303cc7b-1535-457b-b124-e42d3fc63dd1",
        "colab": {
          "base_uri": "https://localhost:8080/",
          "height": 424
        }
      },
      "source": [
        "!pip install yfinance\n",
        "import os\n",
        "import time\n",
        "\n",
        "import numpy as np\n",
        "import pandas as pd\n",
        "import matplotlib.pyplot as plt\n",
        "from pandas_datareader import data as pdr\n",
        "import yfinance as yf\n",
        "\n",
        "import torch\n",
        "import torch.nn as nn\n",
        "from torch.utils.data import TensorDataset, DataLoader\n",
        "\n",
        "from tqdm import tqdm_notebook\n",
        "from sklearn.preprocessing import MinMaxScaler\n",
        "from datetime import date"
      ],
      "execution_count": null,
      "outputs": [
        {
          "output_type": "stream",
          "text": [
            "Collecting yfinance\n",
            "  Downloading https://files.pythonhosted.org/packages/c2/31/8b374a12b90def92a4e27d0fc595fc43635f395984e36a075244d98bd265/yfinance-0.1.54.tar.gz\n",
            "Requirement already satisfied: pandas>=0.24 in /usr/local/lib/python3.6/dist-packages (from yfinance) (1.0.5)\n",
            "Requirement already satisfied: numpy>=1.15 in /usr/local/lib/python3.6/dist-packages (from yfinance) (1.18.5)\n",
            "Requirement already satisfied: requests>=2.20 in /usr/local/lib/python3.6/dist-packages (from yfinance) (2.23.0)\n",
            "Requirement already satisfied: multitasking>=0.0.7 in /usr/local/lib/python3.6/dist-packages (from yfinance) (0.0.9)\n",
            "Requirement already satisfied: pytz>=2017.2 in /usr/local/lib/python3.6/dist-packages (from pandas>=0.24->yfinance) (2018.9)\n",
            "Requirement already satisfied: python-dateutil>=2.6.1 in /usr/local/lib/python3.6/dist-packages (from pandas>=0.24->yfinance) (2.8.1)\n",
            "Requirement already satisfied: idna<3,>=2.5 in /usr/local/lib/python3.6/dist-packages (from requests>=2.20->yfinance) (2.10)\n",
            "Requirement already satisfied: chardet<4,>=3.0.2 in /usr/local/lib/python3.6/dist-packages (from requests>=2.20->yfinance) (3.0.4)\n",
            "Requirement already satisfied: urllib3!=1.25.0,!=1.25.1,<1.26,>=1.21.1 in /usr/local/lib/python3.6/dist-packages (from requests>=2.20->yfinance) (1.24.3)\n",
            "Requirement already satisfied: certifi>=2017.4.17 in /usr/local/lib/python3.6/dist-packages (from requests>=2.20->yfinance) (2020.6.20)\n",
            "Requirement already satisfied: six>=1.5 in /usr/local/lib/python3.6/dist-packages (from python-dateutil>=2.6.1->pandas>=0.24->yfinance) (1.15.0)\n",
            "Building wheels for collected packages: yfinance\n",
            "  Building wheel for yfinance (setup.py) ... \u001b[?25l\u001b[?25hdone\n",
            "  Created wheel for yfinance: filename=yfinance-0.1.54-py2.py3-none-any.whl size=22409 sha256=3c9da262616eb0e7dda7dfbca5542832b3b7cb3284f0428a5a085191be5d66e5\n",
            "  Stored in directory: /root/.cache/pip/wheels/f9/e3/5b/ec24dd2984b12d61e0abf26289746c2436a0e7844f26f2515c\n",
            "Successfully built yfinance\n",
            "Installing collected packages: yfinance\n",
            "Successfully installed yfinance-0.1.54\n"
          ],
          "name": "stdout"
        },
        {
          "output_type": "stream",
          "text": [
            "/usr/local/lib/python3.6/dist-packages/pandas_datareader/compat/__init__.py:7: FutureWarning: pandas.util.testing is deprecated. Use the functions in the public API at pandas.testing instead.\n",
            "  from pandas.util.testing import assert_frame_equal\n"
          ],
          "name": "stderr"
        }
      ]
    },
    {
      "cell_type": "markdown",
      "metadata": {
        "id": "2CeuoTTQsTjM"
      },
      "source": [
        "# The data preprocessing steps:\n",
        "1) Reading data with yahoo_finance and pandas_datareader \\\n",
        "2) Creating subdatasets with date (day of the year, month, day of the week, hour of the day) \\\n",
        "3) Scale data to values from 0 and 1 (sklearn.preprocessing.MinMaxScaler()) \\\n",
        "4) Group data into sequences to be used as inputs and split for training and testing"
      ]
    },
    {
      "cell_type": "code",
      "metadata": {
        "id": "riGXb6-6T9KX",
        "outputId": "58e4a49e-5133-4a7b-cc13-8e4911723c93",
        "colab": {
          "base_uri": "https://localhost:8080/",
          "height": 158
        }
      },
      "source": [
        "# The scaler objects will be stored in this dictionary so that our output test data from the model can be re-scaled during evaluation\n",
        "label_scalers = {}\n",
        "\n",
        "train_x = np.array([])\n",
        "test_x = {}\n",
        "test_y = {}\n",
        "for_plot = {}\n",
        "\n",
        "tickers = ['AAPL', 'AMZN', 'T', 'MA', 'V', 'MSFT', 'TSLA', 'FB']\n",
        "start_date = '1990-04-01'\n",
        "end_date = date.today()\n",
        "\n",
        "for ticker in tickers:\n",
        "    df = pdr.get_data_yahoo(ticker, start=start_date, end=end_date)         ## Reading data \n",
        "    df['Datetime'] = df.index\n",
        "    df = df[['Close', 'Datetime']] \n",
        "\n",
        "    df['hour'] = df.apply(lambda x: x['Datetime'].hour,axis=1)\n",
        "    df['dayofweek'] = df.apply(lambda x: x['Datetime'].dayofweek,axis=1)\n",
        "    df['month'] = df.apply(lambda x: x['Datetime'].month,axis=1)\n",
        "    df['dayofyear'] = df.apply(lambda x: x['Datetime'].dayofyear,axis=1)\n",
        "    df = df.sort_values(\"Datetime\").drop(\"Datetime\",axis=1)\n",
        "    print(f'Ticker: {ticker}, Length: {len(df)}' )\n",
        "\n",
        "    ## Scaling the input data\n",
        "    sc = MinMaxScaler()\n",
        "    label_sc = MinMaxScaler()\n",
        "    data = sc.fit_transform(df.values)\n",
        "\n",
        "    ## Save the scalers to rescale data in the future\n",
        "    label_sc.fit(df.iloc[:,0].values.reshape(-1,1))\n",
        "    label_scalers[ticker] = label_sc\n",
        "    \n",
        "    # Define lookback period and split inputs/labels\n",
        "    lookback = 90\n",
        "    inputs = np.zeros((len(data)-lookback,lookback,df.shape[1]))\n",
        "    labels = np.zeros(len(data)-lookback)\n",
        "    \n",
        "    for i in range(lookback, len(data)):\n",
        "        inputs[i-lookback] = data[i-lookback:i]\n",
        "        labels[i-lookback] = data[i,0]\n",
        "    inputs = inputs.reshape(-1,lookback,df.shape[1])\n",
        "    labels = labels.reshape(-1,1)\n",
        "    \n",
        "    # Split data into train/test portions and combining all data with different tickers into a single array\n",
        "    test_portion = int(0.2*len(inputs))\n",
        "    if len(train_x) == 0:\n",
        "        train_x = inputs[:-test_portion]\n",
        "        train_y = labels[:-test_portion]\n",
        "        for_plot[ticker] = labels[:-test_portion]\n",
        "    else:\n",
        "        train_x = np.concatenate((train_x,inputs[:-test_portion]))\n",
        "        train_y = np.concatenate((train_y,labels[:-test_portion]))\n",
        "        for_plot[ticker] = labels[:-test_portion]\n",
        "    test_x[ticker] = (inputs[-test_portion:])\n",
        "    test_y[ticker] = (labels[-test_portion:])"
      ],
      "execution_count": null,
      "outputs": [
        {
          "output_type": "stream",
          "text": [
            "Ticker: AAPL, Length: 7683\n",
            "Ticker: AMZN, Length: 5882\n",
            "Ticker: T, Length: 7683\n",
            "Ticker: MA, Length: 3611\n",
            "Ticker: V, Length: 3155\n",
            "Ticker: MSFT, Length: 7683\n",
            "Ticker: TSLA, Length: 2581\n",
            "Ticker: FB, Length: 2104\n"
          ],
          "name": "stdout"
        }
      ]
    },
    {
      "cell_type": "code",
      "metadata": {
        "id": "UImgJN6kT9Kd",
        "outputId": "d520b931-4f49-40f2-b206-5d4636e852c7",
        "colab": {
          "base_uri": "https://localhost:8080/",
          "height": 35
        }
      },
      "source": [
        "train_x.shape, train_y.shape"
      ],
      "execution_count": null,
      "outputs": [
        {
          "output_type": "execute_result",
          "data": {
            "text/plain": [
              "((31733, 90, 5), (31733, 1))"
            ]
          },
          "metadata": {
            "tags": []
          },
          "execution_count": 4
        }
      ]
    },
    {
      "cell_type": "code",
      "metadata": {
        "id": "Vzw9DvqY4Gj-",
        "outputId": "b15163c0-7868-4d8c-a7d8-cbdad18f4a63",
        "colab": {
          "base_uri": "https://localhost:8080/",
          "height": 35
        }
      },
      "source": [
        "labels.shape"
      ],
      "execution_count": null,
      "outputs": [
        {
          "output_type": "execute_result",
          "data": {
            "text/plain": [
              "(2014, 1)"
            ]
          },
          "metadata": {
            "tags": []
          },
          "execution_count": 5
        }
      ]
    },
    {
      "cell_type": "code",
      "metadata": {
        "id": "vxUaH4Ifh7dH",
        "outputId": "99f72c57-c0b2-44a1-8c9f-8c13395d308c",
        "colab": {
          "base_uri": "https://localhost:8080/",
          "height": 35
        }
      },
      "source": [
        "len(for_plot['AAPL'])"
      ],
      "execution_count": null,
      "outputs": [
        {
          "output_type": "execute_result",
          "data": {
            "text/plain": [
              "6075"
            ]
          },
          "metadata": {
            "tags": []
          },
          "execution_count": 6
        }
      ]
    },
    {
      "cell_type": "code",
      "metadata": {
        "id": "2P8hGArvfl5j",
        "outputId": "8e2cf5ae-c11c-439d-8433-643c3c51ae00",
        "colab": {
          "base_uri": "https://localhost:8080/",
          "height": 268
        }
      },
      "source": [
        "plt.grid(True)\n",
        "plt.autoscale(axis='x', tight=True)\n",
        "plt.plot(for_plot['AAPL'], label = 'Train Apple')\n",
        "plt.legend()\n",
        "plt.show()"
      ],
      "execution_count": null,
      "outputs": [
        {
          "output_type": "display_data",
          "data": {
            "image/png": "[encoded data removed]",
            "text/plain": [
              "<Figure size 432x288 with 1 Axes>"
            ]
          },
          "metadata": {
            "tags": [],
            "needs_background": "light"
          }
        }
      ]
    },
    {
      "cell_type": "code",
      "metadata": {
        "id": "KzTGslP1hY2k",
        "outputId": "8ea980ca-fa32-48fc-debd-6d33e6ac8c3c",
        "colab": {
          "base_uri": "https://localhost:8080/",
          "height": 265
        }
      },
      "source": [
        "plt.grid(True)\n",
        "plt.autoscale(axis='x', tight=True)\n",
        "plt.plot(test_y['AAPL'], label = 'Test Apple')\n",
        "plt.legend()\n",
        "plt.show()"
      ],
      "execution_count": null,
      "outputs": [
        {
          "output_type": "display_data",
          "data": {
            "image/png": "[encoded data removed]",
            "text/plain": [
              "<Figure size 432x288 with 1 Axes>"
            ]
          },
          "metadata": {
            "tags": [],
            "needs_background": "light"
          }
        }
      ]
    },
    {
      "cell_type": "markdown",
      "metadata": {
        "id": "KcWDKJF8tsrm"
      },
      "source": [
        "### Creating PyTorch Dataset"
      ]
    },
    {
      "cell_type": "code",
      "metadata": {
        "id": "ycvRi0LhT9Kh"
      },
      "source": [
        "batch_size = 256\n",
        "\n",
        "train_data = TensorDataset(torch.from_numpy(train_x), torch.from_numpy(train_y))\n",
        "train_loader = DataLoader(train_data, shuffle = True, batch_size = batch_size, drop_last = True)"
      ],
      "execution_count": null,
      "outputs": []
    },
    {
      "cell_type": "code",
      "metadata": {
        "id": "-Pas2zO_T9Kj",
        "outputId": "d495fa96-3c90-488d-c639-4511b87abb1e",
        "colab": {
          "base_uri": "https://localhost:8080/",
          "height": 35
        }
      },
      "source": [
        "## Let's use GPU\n",
        "device = 'cuda' if torch.cuda.is_available() else 'cpu'\n",
        "device"
      ],
      "execution_count": null,
      "outputs": [
        {
          "output_type": "execute_result",
          "data": {
            "application/vnd.google.colaboratory.intrinsic+json": {
              "type": "string"
            },
            "text/plain": [
              "'cuda'"
            ]
          },
          "metadata": {
            "tags": []
          },
          "execution_count": 10
        }
      ]
    },
    {
      "cell_type": "markdown",
      "metadata": {
        "id": "X82u9nukT9Km"
      },
      "source": [
        "# Initializing GRU (Gated Recurrent Unit) and LSTM (Long Short-Term Memory)"
      ]
    },
    {
      "cell_type": "code",
      "metadata": {
        "id": "lyOG_1mWT9Km"
      },
      "source": [
        "class GRU(nn.Module):\n",
        "    def __init__(self, input_dim, hidden_dim, output_dim, n_layers, drop_prob=0.2):\n",
        "        super().__init__()\n",
        "        self.hidden_dim = hidden_dim\n",
        "        self.n_layers = n_layers\n",
        "        \n",
        "        self.gru = nn.GRU(input_dim, hidden_dim, n_layers, batch_first = True, dropout=drop_prob)\n",
        "        self.fc = nn.Linear(hidden_dim, output_dim)\n",
        "        self.relu = nn.ReLU()\n",
        "        \n",
        "    def forward(self, x, h):\n",
        "        out, h = self.gru(x, h)\n",
        "        out = self.fc(self.relu(out[:,-1]))\n",
        "        return out, h\n",
        "    \n",
        "    def init_hidden(self, batch_size):\n",
        "        weight = next(self.parameters()).data\n",
        "        hidden = weight.new(self.n_layers, batch_size, self.hidden_dim).zero_().to(device)\n",
        "        return hidden\n",
        "\n",
        "class LSTM(nn.Module):\n",
        "    def __init__(self, input_dim, hidden_dim, output_dim, n_layers, drop_prob=0.2):\n",
        "        super().__init__()\n",
        "        self.hidden_dim = hidden_dim\n",
        "        self.n_layers = n_layers\n",
        "        \n",
        "        self.lstm = nn.LSTM(input_dim, hidden_dim, n_layers, batch_first=True, dropout=drop_prob)\n",
        "        self.fc = nn.Linear(hidden_dim, output_dim)\n",
        "        self.relu = nn.ReLU()\n",
        "        \n",
        "    def forward(self, x, h):\n",
        "        out, h = self.lstm(x, h)\n",
        "        out = self.fc(self.relu(out[:,-1]))\n",
        "        return out, h\n",
        "    \n",
        "    def init_hidden(self, batch_size):\n",
        "        weight = next(self.parameters()).data\n",
        "        hidden = (weight.new(self.n_layers, batch_size, self.hidden_dim).zero_().to(device),\n",
        "                  weight.new(self.n_layers, batch_size, self.hidden_dim).zero_().to(device))\n",
        "        return hidden"
      ],
      "execution_count": null,
      "outputs": []
    },
    {
      "cell_type": "markdown",
      "metadata": {
        "id": "PCagFuhtT9Kp"
      },
      "source": [
        "To evaluate our models we will use Mean Absolute Persentage Error (MAPE)  and Symmetric Mean Absolute Persentage Error (sMAPE)\n",
        "\n",
        "These are formulas for *MAPE* and *sMAPE*:\\\n",
        "$MAPE = \\frac{1}{n} \\sum_{t=1}^n \\frac{|F_t - A_t|}{F_t}$ \\\n",
        "$sMAPE = \\frac{100%}{n} \\sum_{t=1}^n \\frac{|F_t - A_t|}{(|F_t + A_t|)/2}$ \\\n",
        "\n",
        "\n",
        "${F_t} - actual\\ value$ \\\n",
        "${A_t} - predicted\\ valeu$"
      ]
    },
    {
      "cell_type": "code",
      "metadata": {
        "id": "icdCnxjmT9Kq"
      },
      "source": [
        "def train_model(model, criterion, optimizer, train_loader, EPOCHS = 5):\n",
        "\n",
        "    model.to(device)\n",
        "\n",
        "    model.train()   ## Enter train mode\n",
        "\n",
        "    epoch_times = []\n",
        "    loss_history = []\n",
        "\n",
        "    for epoch in range(1,EPOCHS+1):\n",
        "        start_time = time.clock()\n",
        "        h = model.init_hidden(batch_size)\n",
        "        avg_loss = 0.\n",
        "\n",
        "        for counter, (x, label) in enumerate(train_loader):\n",
        "            \n",
        "            try:\n",
        "                h = h.data      ## hidden layer for GRU\n",
        "            except:\n",
        "                h = tuple([e.data for e in h])      ## hidden layer for LSTM\n",
        "\n",
        "            optimizer.zero_grad()\n",
        "            \n",
        "            out, h = model(x.to(device).float(), h)\n",
        "            loss = criterion(out, label.to(device).float())\n",
        "            loss.backward()\n",
        "            optimizer.step()\n",
        "            avg_loss += loss.item()\n",
        "\n",
        "            if counter % 100 == 0:\n",
        "                loss_history.append(avg_loss / (counter + 1))\n",
        "                print(f\"Epoch {epoch}, Step: {counter} / {len(train_loader)}, Average Loss for Epoch: {avg_loss / (counter + 1)}\")\n",
        "                \n",
        "        current_time = time.clock()\n",
        "        print(f\"Epoch {epoch} / {EPOCHS} Done, Total Loss: {avg_loss / len(train_loader)}\")\n",
        "        print(f\"Time Elapsed for Epoch: {str(current_time-start_time)} seconds\")\n",
        "        print()\n",
        "        epoch_times.append(current_time-start_time)\n",
        "\n",
        "    print(f\"Total Training Time: {str(sum(epoch_times))} seconds\")\n",
        "    return loss_history\n",
        "\n",
        "def evaluate(model, test_x, test_y, label_scalers):\n",
        "    model.eval()    ## Enter evaluating mode\n",
        "\n",
        "    outputs = np.array([])\n",
        "    targets = np.array([])\n",
        "    start_time = time.clock()\n",
        "\n",
        "    inp = torch.from_numpy(np.array(test_x))\n",
        "    labs = torch.from_numpy(np.array(test_y))\n",
        "    h = model.init_hidden(inp.shape[0])\n",
        "    out, h = model(inp.to(device).float(), h)\n",
        "\n",
        "    outputs = np.append(outputs, label_scalers.inverse_transform(out.cpu().detach().numpy()).reshape(-1))\n",
        "    targets = np.append(targets, label_scalers.inverse_transform(labs.numpy()).reshape(-1))\n",
        "\n",
        "    print()\n",
        "    print(f\"Evaluation Time: {str(time.clock()-start_time)}\")\n",
        "\n",
        "    sMAPE = np.mean(np.sum(np.abs(outputs-targets)/(targets+outputs)/2)/len(outputs))\n",
        "    MAPE = np.mean(np.sum(np.abs(targets - outputs)/targets)/len(outputs))\n",
        "\n",
        "    print(f\"sMAPE: {sMAPE*100}%\")\n",
        "    print(f\"MAPE: {MAPE*100}%\")\n",
        "\n",
        "    return outputs, targets, sMAPE, MAPE"
      ],
      "execution_count": null,
      "outputs": []
    },
    {
      "cell_type": "markdown",
      "metadata": {
        "id": "STgk5eDL3dsL"
      },
      "source": [
        "### GRU"
      ]
    },
    {
      "cell_type": "code",
      "metadata": {
        "scrolled": true,
        "id": "ZAMOm7m0T9Kt",
        "outputId": "4fa92e79-a7d0-437a-d415-5e08be925fc8",
        "colab": {
          "base_uri": "https://localhost:8080/",
          "height": 932
        }
      },
      "source": [
        "input_dim = next(iter(train_loader))[0].shape[2]\n",
        "output_dim = 1\n",
        "n_layers = 2\n",
        "hidden_dim = 256\n",
        "\n",
        "gru_model = GRU(input_dim, hidden_dim, output_dim, n_layers)\n",
        "criterion = nn.MSELoss()\n",
        "optimizer = torch.optim.Adam(gru_model.parameters(), lr = 0.001)\n",
        "\n",
        "gru_model.to(device)\n",
        "\n",
        "loss_history = train_model(gru_model, criterion, optimizer, train_loader, 10)"
      ],
      "execution_count": null,
      "outputs": [
        {
          "output_type": "stream",
          "text": [
            "Starting training\n",
            "Epoch 1, Step: 0 / 123, Average Loss for Epoch: 0.03945130854845047\n",
            "Epoch 1, Step: 100 / 123, Average Loss for Epoch: 0.0038544486146702634\n",
            "Epoch 1 / 10 Done, Total Loss: 0.0031964053006249297\n",
            "Time Elapsed for Epoch: 3.557418 seconds\n",
            "\n",
            "Epoch 2, Step: 0 / 123, Average Loss for Epoch: 0.00011309202818665653\n",
            "Epoch 2, Step: 100 / 123, Average Loss for Epoch: 0.00014651279494807236\n",
            "Epoch 2 / 10 Done, Total Loss: 0.00014736856980111101\n",
            "Time Elapsed for Epoch: 3.5353569999999976 seconds\n",
            "\n",
            "Epoch 3, Step: 0 / 123, Average Loss for Epoch: 0.0002053574426099658\n",
            "Epoch 3, Step: 100 / 123, Average Loss for Epoch: 0.00013445008862798222\n",
            "Epoch 3 / 10 Done, Total Loss: 0.00013327523256742918\n",
            "Time Elapsed for Epoch: 3.5485190000000024 seconds\n",
            "\n",
            "Epoch 4, Step: 0 / 123, Average Loss for Epoch: 0.00011598011042224243\n",
            "Epoch 4, Step: 100 / 123, Average Loss for Epoch: 0.00012460744688039564\n",
            "Epoch 4 / 10 Done, Total Loss: 0.00012403355731663854\n",
            "Time Elapsed for Epoch: 3.5647160000000007 seconds\n",
            "\n",
            "Epoch 5, Step: 0 / 123, Average Loss for Epoch: 0.0001298940333072096\n",
            "Epoch 5, Step: 100 / 123, Average Loss for Epoch: 0.00012101091794314619\n",
            "Epoch 5 / 10 Done, Total Loss: 0.00011899741490729289\n",
            "Time Elapsed for Epoch: 3.580321999999999 seconds\n",
            "\n",
            "Epoch 6, Step: 0 / 123, Average Loss for Epoch: 0.00012712427997030318\n",
            "Epoch 6, Step: 100 / 123, Average Loss for Epoch: 0.00011363143314138322\n",
            "Epoch 6 / 10 Done, Total Loss: 0.00011209643095598283\n",
            "Time Elapsed for Epoch: 3.621257 seconds\n",
            "\n",
            "Epoch 7, Step: 0 / 123, Average Loss for Epoch: 0.00023947283625602722\n",
            "Epoch 7, Step: 100 / 123, Average Loss for Epoch: 0.00011175521800702548\n",
            "Epoch 7 / 10 Done, Total Loss: 0.00011157600675961306\n",
            "Time Elapsed for Epoch: 3.5768169999999984 seconds\n",
            "\n",
            "Epoch 8, Step: 0 / 123, Average Loss for Epoch: 7.867923704907298e-05\n",
            "Epoch 8, Step: 100 / 123, Average Loss for Epoch: 0.00011224762715530665\n",
            "Epoch 8 / 10 Done, Total Loss: 0.00010808750380604808\n",
            "Time Elapsed for Epoch: 3.571952000000003 seconds\n",
            "\n",
            "Epoch 9, Step: 0 / 123, Average Loss for Epoch: 0.00010661620763130486\n",
            "Epoch 9, Step: 100 / 123, Average Loss for Epoch: 0.00010275354001314914\n",
            "Epoch 9 / 10 Done, Total Loss: 0.00010297018010666163\n",
            "Time Elapsed for Epoch: 3.5622279999999975 seconds\n",
            "\n",
            "Epoch 10, Step: 0 / 123, Average Loss for Epoch: 0.00010006209777202457\n",
            "Epoch 10, Step: 100 / 123, Average Loss for Epoch: 9.792832245486605e-05\n",
            "Epoch 10 / 10 Done, Total Loss: 9.728167022079631e-05\n",
            "Time Elapsed for Epoch: 3.5620520000000013 seconds\n",
            "\n",
            "Total Training Time: 35.680638 seconds\n"
          ],
          "name": "stdout"
        }
      ]
    },
    {
      "cell_type": "code",
      "metadata": {
        "id": "Tp2eoxZ6erLQ",
        "outputId": "947c38aa-72b7-4ff3-8fd7-fb69d482d777",
        "colab": {
          "base_uri": "https://localhost:8080/",
          "height": 265
        }
      },
      "source": [
        "plt.grid(True)\n",
        "plt.autoscale(axis='x', tight=True)\n",
        "plt.plot(loss_history, label = 'loss')\n",
        "plt.legend()\n",
        "plt.show()"
      ],
      "execution_count": null,
      "outputs": [
        {
          "output_type": "display_data",
          "data": {
            "image/png": "[encoded data removed]",
            "text/plain": [
              "<Figure size 432x288 with 1 Axes>"
            ]
          },
          "metadata": {
            "tags": [],
            "needs_background": "light"
          }
        }
      ]
    },
    {
      "cell_type": "markdown",
      "metadata": {
        "id": "ZjNYbyV9hWu3"
      },
      "source": [
        "##### Let's see the GRU results"
      ]
    },
    {
      "cell_type": "code",
      "metadata": {
        "id": "7N_ZjP7Yd4nN",
        "outputId": "05467e1a-d478-4c98-dc24-5e381903f650",
        "colab": {
          "base_uri": "https://localhost:8080/",
          "height": 87
        }
      },
      "source": [
        "ticker = 'AAPL'\n",
        "outputs, targets, sMAPE, MAPE = evaluate(gru_model, test_x[ticker], test_y[ticker], label_scalers[ticker])"
      ],
      "execution_count": null,
      "outputs": [
        {
          "output_type": "stream",
          "text": [
            "\n",
            "Evaluation Time: 0.03254700000000099\n",
            "sMAPE: 0.45698161256851844%\n",
            "MAPE: 1.8339766927357564%\n"
          ],
          "name": "stdout"
        }
      ]
    },
    {
      "cell_type": "code",
      "metadata": {
        "id": "g2aCv5pmfZBH",
        "outputId": "9b7bf928-c693-40c6-af5e-473ba41b8809",
        "colab": {
          "base_uri": "https://localhost:8080/",
          "height": 35
        }
      },
      "source": [
        "outputs = np.array(outputs)\n",
        "outputs = outputs.reshape(-1)\n",
        "\n",
        "targets = np.array(targets)\n",
        "targets = targets.reshape(-1)\n",
        "\n",
        "outputs.shape, targets.shape"
      ],
      "execution_count": null,
      "outputs": [
        {
          "output_type": "execute_result",
          "data": {
            "text/plain": [
              "((1518,), (1518,))"
            ]
          },
          "metadata": {
            "tags": []
          },
          "execution_count": 16
        }
      ]
    },
    {
      "cell_type": "code",
      "metadata": {
        "id": "kBvPbvAndoLu",
        "outputId": "d9b3ab79-679f-4e25-9c9d-7b249e30918b",
        "colab": {
          "base_uri": "https://localhost:8080/",
          "height": 483
        }
      },
      "source": [
        "plt.figure(figsize = (15, 8))\n",
        "\n",
        "plt.grid(True)\n",
        "plt.autoscale(axis='x', tight=True)\n",
        "plt.plot(targets[0:], label = 'Actual')\n",
        "plt.plot(outputs[1:], label = 'Prediction')\n",
        "plt.legend()\n",
        "plt.show()"
      ],
      "execution_count": null,
      "outputs": [
        {
          "output_type": "display_data",
          "data": {
            "image/png": "[encoded data removed]",
            "text/plain": [
              "<Figure size 1080x576 with 1 Axes>"
            ]
          },
          "metadata": {
            "tags": [],
            "needs_background": "light"
          }
        }
      ]
    },
    {
      "cell_type": "code",
      "metadata": {
        "id": "For2vgiYg70F",
        "outputId": "0d68e25a-7d62-48be-9d16-d4660298fe84",
        "colab": {
          "base_uri": "https://localhost:8080/",
          "height": 140
        }
      },
      "source": [
        "for i in range(len(outputs) - 1):\n",
        "    if np.abs(outputs[i+1] - targets[i]) >5:\n",
        "        print(outputs[i+1], targets[i], outputs[i+1] - targets[i])"
      ],
      "execution_count": null,
      "outputs": [
        {
          "output_type": "stream",
          "text": [
            "67.25274658203125 62.057498931884766 5.195247650146484\n",
            "98.75655364990234 106.26000213623047 -7.503448486328125\n",
            "103.13914489746094 108.9375 -5.7983551025390625\n",
            "117.89498138427734 124.37000274658203 -6.4750213623046875\n",
            "120.78211212158203 125.85749816894531 -5.075386047363281\n",
            "123.91133880615234 129.0399932861328 -5.128654479980469\n",
            "126.97431182861328 134.17999267578125 -7.205680847167969\n"
          ],
          "name": "stdout"
        }
      ]
    },
    {
      "cell_type": "markdown",
      "metadata": {
        "id": "31rVcjXw3lLa"
      },
      "source": [
        "### LSTM"
      ]
    },
    {
      "cell_type": "code",
      "metadata": {
        "id": "0bWfiI9Qh0bn",
        "outputId": "8bdc3288-9664-40b3-f3f7-e9fdb278ed2f",
        "colab": {
          "base_uri": "https://localhost:8080/",
          "height": 932
        }
      },
      "source": [
        "input_dim = next(iter(train_loader))[0].shape[2]\n",
        "output_dim = 1\n",
        "n_layers = 2\n",
        "hidden_dim = 256\n",
        "\n",
        "lstm_model = LSTM(input_dim, hidden_dim, output_dim, n_layers)\n",
        "criterion = nn.MSELoss()\n",
        "optimizer = torch.optim.Adam(lstm_model.parameters(), lr = 0.001)\n",
        "\n",
        "lstm_model.to(device)\n",
        "\n",
        "loss_history = train_model(lstm_model, criterion, optimizer, train_loader, 10)"
      ],
      "execution_count": null,
      "outputs": [
        {
          "output_type": "stream",
          "text": [
            "Starting training\n",
            "Epoch 1, Step: 0 / 123, Average Loss for Epoch: 0.062009021639823914\n",
            "Epoch 1, Step: 100 / 123, Average Loss for Epoch: 0.006295135535909518\n",
            "Epoch 1 / 10 Done, Total Loss: 0.005204889814963761\n",
            "Time Elapsed for Epoch: 4.208815999999999 seconds\n",
            "\n",
            "Epoch 2, Step: 0 / 123, Average Loss for Epoch: 0.00021832759375683963\n",
            "Epoch 2, Step: 100 / 123, Average Loss for Epoch: 0.00018287593195396982\n",
            "Epoch 2 / 10 Done, Total Loss: 0.00017912218855207452\n",
            "Time Elapsed for Epoch: 4.229576999999999 seconds\n",
            "\n",
            "Epoch 3, Step: 0 / 123, Average Loss for Epoch: 0.00020232101087458432\n",
            "Epoch 3, Step: 100 / 123, Average Loss for Epoch: 0.0001678487911559918\n",
            "Epoch 3 / 10 Done, Total Loss: 0.00016782497183838102\n",
            "Time Elapsed for Epoch: 4.223008999999998 seconds\n",
            "\n",
            "Epoch 4, Step: 0 / 123, Average Loss for Epoch: 9.624294762033969e-05\n",
            "Epoch 4, Step: 100 / 123, Average Loss for Epoch: 0.00016784462873192303\n",
            "Epoch 4 / 10 Done, Total Loss: 0.00016684756843549222\n",
            "Time Elapsed for Epoch: 4.270752000000002 seconds\n",
            "\n",
            "Epoch 5, Step: 0 / 123, Average Loss for Epoch: 0.00020533763745334\n",
            "Epoch 5, Step: 100 / 123, Average Loss for Epoch: 0.00016330778878297436\n",
            "Epoch 5 / 10 Done, Total Loss: 0.0001586276422774351\n",
            "Time Elapsed for Epoch: 4.225649000000004 seconds\n",
            "\n",
            "Epoch 6, Step: 0 / 123, Average Loss for Epoch: 9.488353680353612e-05\n",
            "Epoch 6, Step: 100 / 123, Average Loss for Epoch: 0.00013925727081628018\n",
            "Epoch 6 / 10 Done, Total Loss: 0.00015757194205804357\n",
            "Time Elapsed for Epoch: 4.2765679999999975 seconds\n",
            "\n",
            "Epoch 7, Step: 0 / 123, Average Loss for Epoch: 0.0001849375112215057\n",
            "Epoch 7, Step: 100 / 123, Average Loss for Epoch: 0.0001453934027726928\n",
            "Epoch 7 / 10 Done, Total Loss: 0.00014149885012047002\n",
            "Time Elapsed for Epoch: 4.222255999999987 seconds\n",
            "\n",
            "Epoch 8, Step: 0 / 123, Average Loss for Epoch: 0.00013790020602755249\n",
            "Epoch 8, Step: 100 / 123, Average Loss for Epoch: 0.00013813855800642817\n",
            "Epoch 8 / 10 Done, Total Loss: 0.0001363395737227132\n",
            "Time Elapsed for Epoch: 4.199564000000009 seconds\n",
            "\n",
            "Epoch 9, Step: 0 / 123, Average Loss for Epoch: 0.00011001479288097471\n",
            "Epoch 9, Step: 100 / 123, Average Loss for Epoch: 0.00013261142388242065\n",
            "Epoch 9 / 10 Done, Total Loss: 0.0001315752476618466\n",
            "Time Elapsed for Epoch: 4.231565000000003 seconds\n",
            "\n",
            "Epoch 10, Step: 0 / 123, Average Loss for Epoch: 0.00015442163567058742\n",
            "Epoch 10, Step: 100 / 123, Average Loss for Epoch: 0.00011427488288522864\n",
            "Epoch 10 / 10 Done, Total Loss: 0.00012120895420283465\n",
            "Time Elapsed for Epoch: 4.240829000000005 seconds\n",
            "\n",
            "Total Training Time: 42.328585000000004 seconds\n"
          ],
          "name": "stdout"
        }
      ]
    },
    {
      "cell_type": "code",
      "metadata": {
        "id": "FitCMPyI3r0I",
        "outputId": "1874156c-b3f9-4a88-a4c0-5339ab6e5eca",
        "colab": {
          "base_uri": "https://localhost:8080/",
          "height": 265
        }
      },
      "source": [
        "plt.grid(True)\n",
        "plt.autoscale(axis='x', tight=True)\n",
        "plt.plot(loss_history, label = 'loss')\n",
        "plt.legend()\n",
        "plt.show()"
      ],
      "execution_count": null,
      "outputs": [
        {
          "output_type": "display_data",
          "data": {
            "image/png": "[encoded data removed]",
            "text/plain": [
              "<Figure size 432x288 with 1 Axes>"
            ]
          },
          "metadata": {
            "tags": [],
            "needs_background": "light"
          }
        }
      ]
    },
    {
      "cell_type": "markdown",
      "metadata": {
        "id": "jjJOStda4RCx"
      },
      "source": [
        "##### Let's see the LSTM results"
      ]
    },
    {
      "cell_type": "code",
      "metadata": {
        "id": "QNkYiXsA4bfi",
        "outputId": "eabdc823-d9dd-4a6b-b528-1d1f20af04bb",
        "colab": {
          "base_uri": "https://localhost:8080/",
          "height": 87
        }
      },
      "source": [
        "ticker = 'AAPL'\n",
        "outputs, targets, sMAPE, MAPE = evaluate(lstm_model, test_x[ticker], test_y[ticker], label_scalers[ticker])"
      ],
      "execution_count": null,
      "outputs": [
        {
          "output_type": "stream",
          "text": [
            "\n",
            "Evaluation Time: 0.03855400000000486\n",
            "sMAPE: 0.6731481985714651%\n",
            "MAPE: 2.6573729815458105%\n"
          ],
          "name": "stdout"
        }
      ]
    },
    {
      "cell_type": "code",
      "metadata": {
        "id": "x9S8_ved3sLW",
        "outputId": "651f645d-f2c9-4b6c-d06a-68f5046ae875",
        "colab": {
          "base_uri": "https://localhost:8080/",
          "height": 483
        }
      },
      "source": [
        "plt.figure(figsize = (15, 8))\n",
        "\n",
        "plt.grid(True)\n",
        "plt.autoscale(axis='x', tight=True)\n",
        "plt.plot(targets[0:], label = 'Actual')\n",
        "plt.plot(outputs[1:], label = 'Prediction')\n",
        "plt.legend()\n",
        "plt.show()"
      ],
      "execution_count": null,
      "outputs": [
        {
          "output_type": "display_data",
          "data": {
            "image/png": "[encoded data removed]",
            "text/plain": [
              "<Figure size 1080x576 with 1 Axes>"
            ]
          },
          "metadata": {
            "tags": [],
            "needs_background": "light"
          }
        }
      ]
    },
    {
      "cell_type": "markdown",
      "metadata": {
        "id": "9Ho66kE0PRoL"
      },
      "source": [
        "#### Conclusion: in terms of the metrics, GRU looks a little more accurate than LSTM. The plots show that the LSTM is smoother, while the GRU tries to predict each acute case"
      ]
    },
    {
      "cell_type": "code",
      "metadata": {
        "id": "-ZsOcAtQ4We4"
      },
      "source": [
        ""
      ],
      "execution_count": null,
      "outputs": []
    }
  ]
}