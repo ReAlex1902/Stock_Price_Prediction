{
  "nbformat": 4,
  "nbformat_minor": 0,
  "metadata": {
    "kernelspec": {
      "display_name": "Python 3",
      "language": "python",
      "name": "python3"
    },
    "language_info": {
      "codemirror_mode": {
        "name": "ipython",
        "version": 3
      },
      "file_extension": ".py",
      "mimetype": "text/x-python",
      "name": "python",
      "nbconvert_exporter": "python",
      "pygments_lexer": "ipython3",
      "version": "3.7.1"
    },
    "colab": {
      "name": "stock_price_prediction.ipynb",
      "provenance": [],
      "collapsed_sections": [],
      "include_colab_link": true
    },
    "accelerator": "GPU"
  },
  "cells": [
    {
      "cell_type": "markdown",
      "metadata": {
        "id": "view-in-github",
        "colab_type": "text"
      },
      "source": [
        "<a href=\"https://colab.research.google.com/github/ReAlex1902/Stock_Price_Prediction/blob/master/stock_price_prediction.ipynb\" target=\"_parent\"><img src=\"https://colab.research.google.com/assets/colab-badge.svg\" alt=\"Open In Colab\"/></a>"
      ]
    },
    {
      "cell_type": "markdown",
      "metadata": {
        "id": "i1cHsVrUsGv0"
      },
      "source": [
        "# Import all necessary libraries"
      ]
    },
    {
      "cell_type": "code",
      "metadata": {
        "id": "mN9BSo-LT9KP",
        "outputId": "ce24bd97-496c-43ba-e04e-0705dadbef8f",
        "colab": {
          "base_uri": "https://localhost:8080/",
          "height": 283
        }
      },
      "source": [
        "!pip install yfinance\n",
        "import os\n",
        "import time\n",
        "\n",
        "import numpy as np\n",
        "import pandas as pd\n",
        "import matplotlib.pyplot as plt\n",
        "from pandas_datareader import data as pdr\n",
        "import yfinance as yf\n",
        "\n",
        "import torch\n",
        "import torch.nn as nn\n",
        "from torch.utils.data import TensorDataset, DataLoader\n",
        "\n",
        "from tqdm import tqdm_notebook\n",
        "from sklearn.preprocessing import MinMaxScaler\n",
        "from datetime import date"
      ],
      "execution_count": null,
      "outputs": [
        {
          "output_type": "stream",
          "text": [
            "Requirement already satisfied: yfinance in /usr/local/lib/python3.6/dist-packages (0.1.54)\n",
            "Requirement already satisfied: numpy>=1.15 in /usr/local/lib/python3.6/dist-packages (from yfinance) (1.18.5)\n",
            "Requirement already satisfied: pandas>=0.24 in /usr/local/lib/python3.6/dist-packages (from yfinance) (1.0.5)\n",
            "Requirement already satisfied: multitasking>=0.0.7 in /usr/local/lib/python3.6/dist-packages (from yfinance) (0.0.9)\n",
            "Requirement already satisfied: requests>=2.20 in /usr/local/lib/python3.6/dist-packages (from yfinance) (2.23.0)\n",
            "Requirement already satisfied: pytz>=2017.2 in /usr/local/lib/python3.6/dist-packages (from pandas>=0.24->yfinance) (2018.9)\n",
            "Requirement already satisfied: python-dateutil>=2.6.1 in /usr/local/lib/python3.6/dist-packages (from pandas>=0.24->yfinance) (2.8.1)\n",
            "Requirement already satisfied: certifi>=2017.4.17 in /usr/local/lib/python3.6/dist-packages (from requests>=2.20->yfinance) (2020.6.20)\n",
            "Requirement already satisfied: idna<3,>=2.5 in /usr/local/lib/python3.6/dist-packages (from requests>=2.20->yfinance) (2.10)\n",
            "Requirement already satisfied: urllib3!=1.25.0,!=1.25.1,<1.26,>=1.21.1 in /usr/local/lib/python3.6/dist-packages (from requests>=2.20->yfinance) (1.24.3)\n",
            "Requirement already satisfied: chardet<4,>=3.0.2 in /usr/local/lib/python3.6/dist-packages (from requests>=2.20->yfinance) (3.0.4)\n",
            "Requirement already satisfied: six>=1.5 in /usr/local/lib/python3.6/dist-packages (from python-dateutil>=2.6.1->pandas>=0.24->yfinance) (1.15.0)\n"
          ],
          "name": "stdout"
        },
        {
          "output_type": "stream",
          "text": [
            "/usr/local/lib/python3.6/dist-packages/pandas_datareader/compat/__init__.py:7: FutureWarning: pandas.util.testing is deprecated. Use the functions in the public API at pandas.testing instead.\n",
            "  from pandas.util.testing import assert_frame_equal\n"
          ],
          "name": "stderr"
        }
      ]
    },
    {
      "cell_type": "markdown",
      "metadata": {
        "id": "2CeuoTTQsTjM"
      },
      "source": [
        "# The data preprocessing steps:\n",
        "1) Reading data with yahoo_finance and pandas_datareader \\\n",
        "2) Creating subdatasets with date (day of the year, month, day of the week, hour of the day) \\\n",
        "3) Scale data to values from 0 and 1 (sklearn.preprocessing.MinMaxScaler()) \\\n",
        "4) Group data into sequences to be used as inputs and split for training and testing"
      ]
    },
    {
      "cell_type": "code",
      "metadata": {
        "id": "riGXb6-6T9KX",
        "outputId": "7e7268fe-c641-4b95-df10-6a1804eaf074",
        "colab": {
          "base_uri": "https://localhost:8080/",
          "height": 158
        }
      },
      "source": [
        "# The scaler objects will be stored in this dictionary so that our output test data from the model can be re-scaled during evaluation\n",
        "label_scalers = {}\n",
        "\n",
        "train_x = np.array([])\n",
        "test_x = {}\n",
        "test_y = {}\n",
        "for_plot = {}\n",
        "\n",
        "tickers = ['AAPL', 'AMZN', 'T', 'MA', 'V', 'MSFT', 'TSLA', 'FB']\n",
        "start_date = '1990-04-01'\n",
        "end_date = date.today()\n",
        "\n",
        "for ticker in tickers:\n",
        "    df = pdr.get_data_yahoo(ticker, start=start_date, end=end_date)         ## Reading data \n",
        "    df['Datetime'] = df.index\n",
        "    df = df[['Close', 'Datetime']] \n",
        "\n",
        "    df['hour'] = df.apply(lambda x: x['Datetime'].hour,axis=1)\n",
        "    df['dayofweek'] = df.apply(lambda x: x['Datetime'].dayofweek,axis=1)\n",
        "    df['month'] = df.apply(lambda x: x['Datetime'].month,axis=1)\n",
        "    df['dayofyear'] = df.apply(lambda x: x['Datetime'].dayofyear,axis=1)\n",
        "    df = df.sort_values(\"Datetime\").drop(\"Datetime\",axis=1)\n",
        "    print(f'Ticker: {ticker}, Length: {len(df)}' )\n",
        "\n",
        "    ## Scaling the input data\n",
        "    sc = MinMaxScaler()\n",
        "    label_sc = MinMaxScaler()\n",
        "    data = sc.fit_transform(df.values)\n",
        "\n",
        "    ## Save the scalers to rescale data in the future\n",
        "    label_sc.fit(df.iloc[:,0].values.reshape(-1,1))\n",
        "    label_scalers[ticker] = label_sc\n",
        "    \n",
        "    # Define lookback period and split inputs/labels\n",
        "    lookback = 90\n",
        "    inputs = np.zeros((len(data)-lookback,lookback,df.shape[1]))\n",
        "    labels = np.zeros(len(data)-lookback)\n",
        "    \n",
        "    for i in range(lookback, len(data)):\n",
        "        inputs[i-lookback] = data[i-lookback:i]\n",
        "        labels[i-lookback] = data[i,0]\n",
        "    inputs = inputs.reshape(-1,lookback,df.shape[1])\n",
        "    labels = labels.reshape(-1,1)\n",
        "    \n",
        "    # Split data into train/test portions and combining all data with different tickers into a single array\n",
        "    test_portion = int(0.2*len(inputs))\n",
        "    if len(train_x) == 0:\n",
        "        train_x = inputs[:-test_portion]\n",
        "        train_y = labels[:-test_portion]\n",
        "        for_plot[ticker] = labels[:-test_portion]\n",
        "    else:\n",
        "        train_x = np.concatenate((train_x,inputs[:-test_portion]))\n",
        "        train_y = np.concatenate((train_y,labels[:-test_portion]))\n",
        "        for_plot[ticker] = labels[:-test_portion]\n",
        "    test_x[ticker] = (inputs[-test_portion:])\n",
        "    test_y[ticker] = (labels[-test_portion:])"
      ],
      "execution_count": null,
      "outputs": [
        {
          "output_type": "stream",
          "text": [
            "Ticker: AAPL, Length: 7682\n",
            "Ticker: AMZN, Length: 5881\n",
            "Ticker: T, Length: 7682\n",
            "Ticker: MA, Length: 3610\n",
            "Ticker: V, Length: 3154\n",
            "Ticker: MSFT, Length: 7682\n",
            "Ticker: TSLA, Length: 2580\n",
            "Ticker: FB, Length: 2103\n"
          ],
          "name": "stdout"
        }
      ]
    },
    {
      "cell_type": "code",
      "metadata": {
        "id": "UImgJN6kT9Kd",
        "outputId": "00995be3-8d9e-4aeb-e9d1-5cc19088f859",
        "colab": {
          "base_uri": "https://localhost:8080/",
          "height": 35
        }
      },
      "source": [
        "train_x.shape, train_y.shape"
      ],
      "execution_count": null,
      "outputs": [
        {
          "output_type": "execute_result",
          "data": {
            "text/plain": [
              "((31726, 90, 5), (31726, 1))"
            ]
          },
          "metadata": {
            "tags": []
          },
          "execution_count": 3
        }
      ]
    },
    {
      "cell_type": "code",
      "metadata": {
        "id": "Vzw9DvqY4Gj-",
        "outputId": "604411c9-f41c-4c5c-8eb3-d4c51056e691",
        "colab": {
          "base_uri": "https://localhost:8080/",
          "height": 35
        }
      },
      "source": [
        "labels.shape"
      ],
      "execution_count": null,
      "outputs": [
        {
          "output_type": "execute_result",
          "data": {
            "text/plain": [
              "(2013, 1)"
            ]
          },
          "metadata": {
            "tags": []
          },
          "execution_count": 4
        }
      ]
    },
    {
      "cell_type": "code",
      "metadata": {
        "id": "vxUaH4Ifh7dH",
        "outputId": "85ed8e6f-ea33-4f9c-a657-b07493401933",
        "colab": {
          "base_uri": "https://localhost:8080/",
          "height": 35
        }
      },
      "source": [
        "len(for_plot['AAPL'])"
      ],
      "execution_count": null,
      "outputs": [
        {
          "output_type": "execute_result",
          "data": {
            "text/plain": [
              "6074"
            ]
          },
          "metadata": {
            "tags": []
          },
          "execution_count": 5
        }
      ]
    },
    {
      "cell_type": "code",
      "metadata": {
        "id": "2P8hGArvfl5j",
        "outputId": "d0f660c9-dd55-4f50-ecc6-ea797abd10d7",
        "colab": {
          "base_uri": "https://localhost:8080/",
          "height": 268
        }
      },
      "source": [
        "plt.grid(True)\n",
        "plt.autoscale(axis='x', tight=True)\n",
        "plt.plot(for_plot['AAPL'], label = 'Train Apple')\n",
        "plt.legend()\n",
        "plt.show()"
      ],
      "execution_count": null,
      "outputs": [
        {
          "output_type": "display_data",
          "data": {
            "image/png": "[encoded data removed]",
            "text/plain": [
              "<Figure size 432x288 with 1 Axes>"
            ]
          },
          "metadata": {
            "tags": [],
            "needs_background": "light"
          }
        }
      ]
    },
    {
      "cell_type": "code",
      "metadata": {
        "id": "KzTGslP1hY2k",
        "outputId": "565180b7-d5d0-4c98-8c99-4997360362ff",
        "colab": {
          "base_uri": "https://localhost:8080/",
          "height": 265
        }
      },
      "source": [
        "plt.grid(True)\n",
        "plt.autoscale(axis='x', tight=True)\n",
        "plt.plot(test_y['AAPL'], label = 'Test Apple')\n",
        "plt.legend()\n",
        "plt.show()"
      ],
      "execution_count": null,
      "outputs": [
        {
          "output_type": "display_data",
          "data": {
            "image/png": "[encoded data removed]",
            "text/plain": [
              "<Figure size 432x288 with 1 Axes>"
            ]
          },
          "metadata": {
            "tags": [],
            "needs_background": "light"
          }
        }
      ]
    },
    {
      "cell_type": "markdown",
      "metadata": {
        "id": "KcWDKJF8tsrm"
      },
      "source": [
        "### Creating PyTorch Dataset"
      ]
    },
    {
      "cell_type": "code",
      "metadata": {
        "id": "ycvRi0LhT9Kh"
      },
      "source": [
        "batch_size = 256\n",
        "\n",
        "train_data = TensorDataset(torch.from_numpy(train_x), torch.from_numpy(train_y))\n",
        "train_loader = DataLoader(train_data, shuffle = True, batch_size = batch_size, drop_last = True)"
      ],
      "execution_count": null,
      "outputs": []
    },
    {
      "cell_type": "code",
      "metadata": {
        "id": "-Pas2zO_T9Kj",
        "outputId": "4da74e3e-702d-4101-f69d-0735729ed070",
        "colab": {
          "base_uri": "https://localhost:8080/",
          "height": 35
        }
      },
      "source": [
        "## Let's use GPU\n",
        "device = 'cuda' if torch.cuda.is_available() else 'cpu'\n",
        "device"
      ],
      "execution_count": null,
      "outputs": [
        {
          "output_type": "execute_result",
          "data": {
            "application/vnd.google.colaboratory.intrinsic+json": {
              "type": "string"
            },
            "text/plain": [
              "'cuda'"
            ]
          },
          "metadata": {
            "tags": []
          },
          "execution_count": 9
        }
      ]
    },
    {
      "cell_type": "markdown",
      "metadata": {
        "id": "X82u9nukT9Km"
      },
      "source": [
        "# Initializing GRU (Gated Recurrent Unit) and LSTM (Long Short-Term Memory)"
      ]
    },
    {
      "cell_type": "code",
      "metadata": {
        "id": "lyOG_1mWT9Km"
      },
      "source": [
        "class GRU(nn.Module):\n",
        "    def __init__(self, input_dim, hidden_dim, output_dim, n_layers, drop_prob=0.2):\n",
        "        super().__init__()\n",
        "        self.hidden_dim = hidden_dim\n",
        "        self.n_layers = n_layers\n",
        "        \n",
        "        self.gru = nn.GRU(input_dim, hidden_dim, n_layers, batch_first = True, dropout=drop_prob)\n",
        "        self.fc = nn.Linear(hidden_dim, output_dim)\n",
        "        self.relu = nn.ReLU()\n",
        "        \n",
        "    def forward(self, x, h):\n",
        "        out, h = self.gru(x, h)\n",
        "        out = self.fc(self.relu(out[:,-1]))\n",
        "        return out, h\n",
        "    \n",
        "    def init_hidden(self, batch_size):\n",
        "        weight = next(self.parameters()).data\n",
        "        hidden = weight.new(self.n_layers, batch_size, self.hidden_dim).zero_().to(device)\n",
        "        return hidden\n",
        "\n",
        "class LSTM(nn.Module):\n",
        "    def __init__(self, input_dim, hidden_dim, output_dim, n_layers, drop_prob=0.2):\n",
        "        super().__init__()\n",
        "        self.hidden_dim = hidden_dim\n",
        "        self.n_layers = n_layers\n",
        "        \n",
        "        self.lstm = nn.LSTM(input_dim, hidden_dim, n_layers, batch_first=True, dropout=drop_prob)\n",
        "        self.fc = nn.Linear(hidden_dim, output_dim)\n",
        "        self.relu = nn.ReLU()\n",
        "        \n",
        "    def forward(self, x, h):\n",
        "        out, h = self.lstm(x, h)\n",
        "        out = self.fc(self.relu(out[:,-1]))\n",
        "        return out, h\n",
        "    \n",
        "    def init_hidden(self, batch_size):\n",
        "        weight = next(self.parameters()).data\n",
        "        hidden = (weight.new(self.n_layers, batch_size, self.hidden_dim).zero_().to(device),\n",
        "                  weight.new(self.n_layers, batch_size, self.hidden_dim).zero_().to(device))\n",
        "        return hidden"
      ],
      "execution_count": null,
      "outputs": []
    },
    {
      "cell_type": "markdown",
      "metadata": {
        "id": "PCagFuhtT9Kp"
      },
      "source": [
        "To evaluate our models we will use Mean Absolute Persentage Error (MAPE)  and Symmetric Mean Absolute Persentage Error (sMAPE)\n",
        "\n",
        "These are formulas for *MAPE* and *sMAPE*:\\\n",
        "$MAPE = \\frac{1}{n} \\sum_{t=1}^n \\frac{|F_t - A_t|}{F_t}$ \\\n",
        "$sMAPE = \\frac{100%}{n} \\sum_{t=1}^n \\frac{|F_t - A_t|}{(|F_t + A_t|)/2}$ \\\n",
        "\n",
        "\n",
        "${F_t} - actual\\ value$ \\\n",
        "${A_t} - predicted\\ valeu$"
      ]
    },
    {
      "cell_type": "code",
      "metadata": {
        "id": "icdCnxjmT9Kq"
      },
      "source": [
        "def train_model(model, criterion, optimizer, train_loader, EPOCHS = 5):\n",
        "\n",
        "    model.to(device)\n",
        "\n",
        "    model.train()\n",
        "    print('Starting training')\n",
        "    epoch_times = []\n",
        "    loss_history = []\n",
        "    # Start training loop\n",
        "    for epoch in range(1,EPOCHS+1):\n",
        "        start_time = time.clock()\n",
        "        h = model.init_hidden(batch_size)\n",
        "        avg_loss = 0.\n",
        "\n",
        "        for counter, (x, label) in enumerate(train_loader):\n",
        "            \n",
        "            try:\n",
        "                h = h.data      ## hidden layer for GRU\n",
        "            except:\n",
        "                h = tuple([e.data for e in h])      ## hidden layer for LSTM\n",
        "            model.zero_grad()\n",
        "            \n",
        "            out, h = model(x.to(device).float(), h)\n",
        "            loss = criterion(out, label.to(device).float())\n",
        "            loss.backward()\n",
        "            optimizer.step()\n",
        "            avg_loss += loss.item()\n",
        "\n",
        "            if counter % 200 == 0:\n",
        "                loss_history.append(avg_loss / (counter + 1))\n",
        "                print(f\"Epoch {epoch}, Step: {counter}/{len(train_loader)}, Average Loss for Epoch: {avg_loss / (counter + 1)}\")\n",
        "        current_time = time.clock()\n",
        "        print(f\"Epoch {epoch}/{EPOCHS} Done, Total Loss: {avg_loss/len(train_loader)}\")\n",
        "        print(f\"Time Elapsed for Epoch: {str(current_time-start_time)} seconds\")\n",
        "        print()\n",
        "        epoch_times.append(current_time-start_time)\n",
        "\n",
        "    print(\"Total Training Time: {} seconds\".format(str(sum(epoch_times))))\n",
        "    return loss_history\n",
        "\n",
        "def evaluate(model, test_x, test_y, label_scalers):\n",
        "    model.eval()\n",
        "\n",
        "    outputs = np.array([])\n",
        "    targets = np.array([])\n",
        "    start_time = time.clock()\n",
        "\n",
        "    inp = torch.from_numpy(np.array(test_x))\n",
        "    labs = torch.from_numpy(np.array(test_y))\n",
        "    h = model.init_hidden(inp.shape[0])\n",
        "    out, h = model(inp.to(device).float(), h)\n",
        "\n",
        "    outputs = np.append(outputs, label_scalers.inverse_transform(out.cpu().detach().numpy()).reshape(-1))\n",
        "    targets = np.append(targets, label_scalers.inverse_transform(labs.numpy()).reshape(-1))\n",
        "\n",
        "    print()\n",
        "    print(\"Evaluation Time: {}\".format(str(time.clock()-start_time)))\n",
        "\n",
        "    sMAPE = np.mean(np.sum(np.abs(outputs-targets)/(targets+outputs)/2)/len(outputs))\n",
        "    MAPE = np.mean(np.sum(np.abs(targets - outputs)/targets)/len(outputs))\n",
        "\n",
        "    print(\"sMAPE: {}%\".format(sMAPE*100))\n",
        "    print(\"MAPE: {}%\".format(MAPE*100))\n",
        "\n",
        "    return outputs, targets, sMAPE, MAPE"
      ],
      "execution_count": null,
      "outputs": []
    },
    {
      "cell_type": "markdown",
      "metadata": {
        "id": "STgk5eDL3dsL"
      },
      "source": [
        "### GRU"
      ]
    },
    {
      "cell_type": "code",
      "metadata": {
        "scrolled": true,
        "id": "ZAMOm7m0T9Kt",
        "outputId": "dcbe470d-9bd4-43cc-bdc7-d60011af59a1",
        "colab": {
          "base_uri": "https://localhost:8080/",
          "height": 756
        }
      },
      "source": [
        "input_dim = next(iter(train_loader))[0].shape[2]\n",
        "output_dim = 1\n",
        "n_layers = 2\n",
        "hidden_dim = 256\n",
        "\n",
        "gru_model = GRU(input_dim, hidden_dim, output_dim, n_layers)\n",
        "criterion = nn.MSELoss()\n",
        "optimizer = torch.optim.Adam(gru_model.parameters(), lr = 0.001)\n",
        "\n",
        "gru_model.to(device)\n",
        "\n",
        "loss_history = train_model(gru_model, criterion, optimizer, train_loader, 10)"
      ],
      "execution_count": null,
      "outputs": [
        {
          "output_type": "stream",
          "text": [
            "Starting training\n",
            "Epoch 1, Step: 0/123, Average Loss for Epoch: 0.06499553471803665\n",
            "Epoch 1/10 Done, Total Loss: 0.003206635007293558\n",
            "Time Elapsed for Epoch: 6.1101649999999985 seconds\n",
            "\n",
            "Epoch 2, Step: 0/123, Average Loss for Epoch: 0.00011591929069254547\n",
            "Epoch 2/10 Done, Total Loss: 0.00014999945107582442\n",
            "Time Elapsed for Epoch: 6.080814999999998 seconds\n",
            "\n",
            "Epoch 3, Step: 0/123, Average Loss for Epoch: 0.0001692816731519997\n",
            "Epoch 3/10 Done, Total Loss: 0.00013235589183868872\n",
            "Time Elapsed for Epoch: 6.050280000000001 seconds\n",
            "\n",
            "Epoch 4, Step: 0/123, Average Loss for Epoch: 7.338201248785481e-05\n",
            "Epoch 4/10 Done, Total Loss: 0.00012477238712703612\n",
            "Time Elapsed for Epoch: 6.0433270000000014 seconds\n",
            "\n",
            "Epoch 5, Step: 0/123, Average Loss for Epoch: 0.0001006912934826687\n",
            "Epoch 5/10 Done, Total Loss: 0.00012051042006540346\n",
            "Time Elapsed for Epoch: 6.056429999999999 seconds\n",
            "\n",
            "Epoch 6, Step: 0/123, Average Loss for Epoch: 0.00011782391811721027\n",
            "Epoch 6/10 Done, Total Loss: 0.00011308818929085728\n",
            "Time Elapsed for Epoch: 6.127063999999997 seconds\n",
            "\n",
            "Epoch 7, Step: 0/123, Average Loss for Epoch: 0.00010142727114725858\n",
            "Epoch 7/10 Done, Total Loss: 0.00010725015616900953\n",
            "Time Elapsed for Epoch: 6.071191999999996 seconds\n",
            "\n",
            "Epoch 8, Step: 0/123, Average Loss for Epoch: 9.570212569087744e-05\n",
            "Epoch 8/10 Done, Total Loss: 0.00010033716895803052\n",
            "Time Elapsed for Epoch: 6.095768 seconds\n",
            "\n",
            "Epoch 9, Step: 0/123, Average Loss for Epoch: 0.00013241308624856174\n",
            "Epoch 9/10 Done, Total Loss: 0.00010003789716799615\n",
            "Time Elapsed for Epoch: 6.056869000000006 seconds\n",
            "\n",
            "Epoch 10, Step: 0/123, Average Loss for Epoch: 7.979877409525216e-05\n",
            "Epoch 10/10 Done, Total Loss: 0.0001002337628413783\n",
            "Time Elapsed for Epoch: 6.070647000000008 seconds\n",
            "\n",
            "Total Training Time: 60.76255700000001 seconds\n"
          ],
          "name": "stdout"
        }
      ]
    },
    {
      "cell_type": "code",
      "metadata": {
        "id": "Tp2eoxZ6erLQ",
        "outputId": "7cb8be43-9d8f-4a65-9d16-645e5559541c",
        "colab": {
          "base_uri": "https://localhost:8080/",
          "height": 265
        }
      },
      "source": [
        "plt.grid(True)\n",
        "plt.autoscale(axis='x', tight=True)\n",
        "plt.plot(loss_history, label = 'loss')\n",
        "plt.legend()\n",
        "plt.show()"
      ],
      "execution_count": null,
      "outputs": [
        {
          "output_type": "display_data",
          "data": {
            "image/png": "[encoded data removed]",
            "text/plain": [
              "<Figure size 432x288 with 1 Axes>"
            ]
          },
          "metadata": {
            "tags": [],
            "needs_background": "light"
          }
        }
      ]
    },
    {
      "cell_type": "markdown",
      "metadata": {
        "id": "ZjNYbyV9hWu3"
      },
      "source": [
        "##### Let's see the GRU results"
      ]
    },
    {
      "cell_type": "code",
      "metadata": {
        "id": "7N_ZjP7Yd4nN",
        "outputId": "2d1ec31c-9c01-47df-95c5-74412f782681",
        "colab": {
          "base_uri": "https://localhost:8080/",
          "height": 87
        }
      },
      "source": [
        "ticker = 'AAPL'\n",
        "outputs, targets, sMAPE, MAPE = evaluate(gru_model, test_x[ticker], test_y[ticker], label_scalers[ticker])"
      ],
      "execution_count": null,
      "outputs": [
        {
          "output_type": "stream",
          "text": [
            "\n",
            "Evaluation Time: 0.06188599999998701\n",
            "sMAPE: 0.5755098043293615%\n",
            "MAPE: 2.2793655352048225%\n"
          ],
          "name": "stdout"
        }
      ]
    },
    {
      "cell_type": "code",
      "metadata": {
        "id": "g2aCv5pmfZBH",
        "outputId": "8afa55b1-048d-4758-c9f1-8650e3ace425",
        "colab": {
          "base_uri": "https://localhost:8080/",
          "height": 35
        }
      },
      "source": [
        "outputs = np.array(outputs)\n",
        "outputs = outputs.reshape(-1)\n",
        "\n",
        "targets = np.array(targets)\n",
        "targets = targets.reshape(-1)\n",
        "\n",
        "outputs.shape, targets.shape"
      ],
      "execution_count": null,
      "outputs": [
        {
          "output_type": "execute_result",
          "data": {
            "text/plain": [
              "((1518,), (1518,))"
            ]
          },
          "metadata": {
            "tags": []
          },
          "execution_count": 15
        }
      ]
    },
    {
      "cell_type": "code",
      "metadata": {
        "id": "kBvPbvAndoLu",
        "outputId": "da332740-b108-4b13-b2a5-9071546a8c4a",
        "colab": {
          "base_uri": "https://localhost:8080/",
          "height": 483
        }
      },
      "source": [
        "plt.figure(figsize = (15, 8))\n",
        "\n",
        "plt.grid(True)\n",
        "plt.autoscale(axis='x', tight=True)\n",
        "plt.plot(targets[0:], label = 'Actual')\n",
        "plt.plot(outputs[1:], label = 'Prediction')\n",
        "plt.legend()\n",
        "plt.show()"
      ],
      "execution_count": null,
      "outputs": [
        {
          "output_type": "display_data",
          "data": {
            "image/png": "[encoded data removed]",
            "text/plain": [
              "<Figure size 1080x576 with 1 Axes>"
            ]
          },
          "metadata": {
            "tags": [],
            "needs_background": "light"
          }
        }
      ]
    },
    {
      "cell_type": "code",
      "metadata": {
        "id": "For2vgiYg70F",
        "outputId": "9ae8389f-85cd-46cc-a779-f5b905fe5c00",
        "colab": {
          "base_uri": "https://localhost:8080/",
          "height": 87
        }
      },
      "source": [
        "for i in range(len(outputs) - 1):\n",
        "    if np.abs(outputs[i+1] - targets[i]) >5:\n",
        "        print(outputs[i+1], targets[i], outputs[i+1] - targets[i])"
      ],
      "execution_count": null,
      "outputs": [
        {
          "output_type": "stream",
          "text": [
            "99.41751098632812 106.26000213623047 -6.842491149902344\n",
            "103.57305908203125 108.9375 -5.36444091796875\n",
            "119.1544189453125 124.37000274658203 -5.215583801269531\n",
            "128.5168914794922 134.17999267578125 -5.6631011962890625\n"
          ],
          "name": "stdout"
        }
      ]
    },
    {
      "cell_type": "markdown",
      "metadata": {
        "id": "31rVcjXw3lLa"
      },
      "source": [
        "### LSTM"
      ]
    },
    {
      "cell_type": "code",
      "metadata": {
        "id": "0bWfiI9Qh0bn",
        "outputId": "cac836b0-4f0a-4489-fe0b-b1f36e7bbf0d",
        "colab": {
          "base_uri": "https://localhost:8080/",
          "height": 756
        }
      },
      "source": [
        "input_dim = next(iter(train_loader))[0].shape[2]\n",
        "output_dim = 1\n",
        "n_layers = 2\n",
        "hidden_dim = 256\n",
        "\n",
        "lstm_model = LSTM(input_dim, hidden_dim, output_dim, n_layers)\n",
        "criterion = nn.MSELoss()\n",
        "optimizer = torch.optim.Adam(lstm_model.parameters(), lr = 0.001)\n",
        "\n",
        "lstm_model.to(device)\n",
        "\n",
        "loss_history = train_model(lstm_model, criterion, optimizer, train_loader, 10)"
      ],
      "execution_count": null,
      "outputs": [
        {
          "output_type": "stream",
          "text": [
            "Starting training\n",
            "Epoch 1, Step: 0/123, Average Loss for Epoch: 0.03742903470993042\n",
            "Epoch 1/10 Done, Total Loss: 0.0047853070781996845\n",
            "Time Elapsed for Epoch: 7.001298999999989 seconds\n",
            "\n",
            "Epoch 2, Step: 0/123, Average Loss for Epoch: 0.0002053119969787076\n",
            "Epoch 2/10 Done, Total Loss: 0.0001864518501277165\n",
            "Time Elapsed for Epoch: 7.0010970000000015 seconds\n",
            "\n",
            "Epoch 3, Step: 0/123, Average Loss for Epoch: 0.00019144127145409584\n",
            "Epoch 3/10 Done, Total Loss: 0.00017204806612041682\n",
            "Time Elapsed for Epoch: 7.024470000000008 seconds\n",
            "\n",
            "Epoch 4, Step: 0/123, Average Loss for Epoch: 0.000126482336781919\n",
            "Epoch 4/10 Done, Total Loss: 0.00016989967441735258\n",
            "Time Elapsed for Epoch: 6.999672999999987 seconds\n",
            "\n",
            "Epoch 5, Step: 0/123, Average Loss for Epoch: 0.0001992268953472376\n",
            "Epoch 5/10 Done, Total Loss: 0.00015736863701377155\n",
            "Time Elapsed for Epoch: 7.010210000000001 seconds\n",
            "\n",
            "Epoch 6, Step: 0/123, Average Loss for Epoch: 0.00034715328365564346\n",
            "Epoch 6/10 Done, Total Loss: 0.00015294977445562362\n",
            "Time Elapsed for Epoch: 7.037875999999997 seconds\n",
            "\n",
            "Epoch 7, Step: 0/123, Average Loss for Epoch: 0.00021277228370308876\n",
            "Epoch 7/10 Done, Total Loss: 0.0001424527453775404\n",
            "Time Elapsed for Epoch: 7.005588000000003 seconds\n",
            "\n",
            "Epoch 8, Step: 0/123, Average Loss for Epoch: 0.000110782784759067\n",
            "Epoch 8/10 Done, Total Loss: 0.00012849860803822313\n",
            "Time Elapsed for Epoch: 7.004418999999999 seconds\n",
            "\n",
            "Epoch 9, Step: 0/123, Average Loss for Epoch: 7.708970224484801e-05\n",
            "Epoch 9/10 Done, Total Loss: 0.00013942793938018973\n",
            "Time Elapsed for Epoch: 6.973661000000007 seconds\n",
            "\n",
            "Epoch 10, Step: 0/123, Average Loss for Epoch: 0.00011460296082077548\n",
            "Epoch 10/10 Done, Total Loss: 0.00011763446010758995\n",
            "Time Elapsed for Epoch: 6.955794999999995 seconds\n",
            "\n",
            "Total Training Time: 70.01408799999999 seconds\n"
          ],
          "name": "stdout"
        }
      ]
    },
    {
      "cell_type": "code",
      "metadata": {
        "id": "FitCMPyI3r0I",
        "outputId": "534b8d4a-c04d-4502-a855-8afdf5da5e6f",
        "colab": {
          "base_uri": "https://localhost:8080/",
          "height": 265
        }
      },
      "source": [
        "plt.grid(True)\n",
        "plt.autoscale(axis='x', tight=True)\n",
        "plt.plot(loss_history, label = 'loss')\n",
        "plt.legend()\n",
        "plt.show()"
      ],
      "execution_count": null,
      "outputs": [
        {
          "output_type": "display_data",
          "data": {
            "image/png": "[encoded data removed]",
            "text/plain": [
              "<Figure size 432x288 with 1 Axes>"
            ]
          },
          "metadata": {
            "tags": [],
            "needs_background": "light"
          }
        }
      ]
    },
    {
      "cell_type": "markdown",
      "metadata": {
        "id": "jjJOStda4RCx"
      },
      "source": [
        "##### Let's see the LSTM results"
      ]
    },
    {
      "cell_type": "code",
      "metadata": {
        "id": "QNkYiXsA4bfi",
        "outputId": "8c62027f-954f-4315-b711-2fa5c443f865",
        "colab": {
          "base_uri": "https://localhost:8080/",
          "height": 87
        }
      },
      "source": [
        "ticker = 'AAPL'\n",
        "outputs, targets, sMAPE, MAPE = evaluate(lstm_model, test_x[ticker], test_y[ticker], label_scalers[ticker])"
      ],
      "execution_count": null,
      "outputs": [
        {
          "output_type": "stream",
          "text": [
            "\n",
            "Evaluation Time: 0.0775600000000054\n",
            "sMAPE: 0.5998170582351439%\n",
            "MAPE: 2.4048879860710146%\n"
          ],
          "name": "stdout"
        }
      ]
    },
    {
      "cell_type": "code",
      "metadata": {
        "id": "x9S8_ved3sLW",
        "outputId": "fe18ec02-59d3-45a5-b12c-238192b4426f",
        "colab": {
          "base_uri": "https://localhost:8080/",
          "height": 483
        }
      },
      "source": [
        "plt.figure(figsize = (15, 8))\n",
        "\n",
        "plt.grid(True)\n",
        "plt.autoscale(axis='x', tight=True)\n",
        "plt.plot(targets[0:], label = 'Actual')\n",
        "plt.plot(outputs[1:], label = 'Prediction')\n",
        "plt.legend()\n",
        "plt.show()"
      ],
      "execution_count": null,
      "outputs": [
        {
          "output_type": "display_data",
          "data": {
            "image/png": "[encoded data removed]",
            "text/plain": [
              "<Figure size 1080x576 with 1 Axes>"
            ]
          },
          "metadata": {
            "tags": [],
            "needs_background": "light"
          }
        }
      ]
    },
    {
      "cell_type": "markdown",
      "metadata": {
        "id": "9Ho66kE0PRoL"
      },
      "source": [
        "#### Conclusion: in terms of the metrics, GRU looks a little more accurate than LSTM. The plots show that the LSTM is smoother, while the GRU tries to predict each acute case"
      ]
    },
    {
      "cell_type": "code",
      "metadata": {
        "id": "-ZsOcAtQ4We4"
      },
      "source": [
        ""
      ],
      "execution_count": null,
      "outputs": []
    }
  ]
}